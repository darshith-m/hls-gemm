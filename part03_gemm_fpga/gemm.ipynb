{
 "cells": [
  {
   "cell_type": "markdown",
   "id": "12fcfb71",
   "metadata": {},
   "source": [
    "# **GEMMM Acceleraor using HLS**"
   ]
  },
  {
   "cell_type": "markdown",
   "id": "607c2f7e",
   "metadata": {},
   "source": [
    "## **Step 01 - Import libraries**"
   ]
  },
  {
   "cell_type": "code",
   "execution_count": 1,
   "id": "bef4d9b5",
   "metadata": {},
   "outputs": [],
   "source": [
    "import time\n",
    "import numpy as np\n",
    "from pynq import Overlay, allocate"
   ]
  },
  {
   "cell_type": "markdown",
   "id": "2b06ea15",
   "metadata": {},
   "source": [
    "## **Step 02 - Class to compute GEMM on FPGA and Naive Matrix Multiplication function**"
   ]
  },
  {
   "cell_type": "code",
   "execution_count": 2,
   "id": "e9c0dc3b",
   "metadata": {},
   "outputs": [],
   "source": [
    "class GEMM_DRIVER:\n",
    "    def __init__(self, path, debug=False):\n",
    "        self.debug = debug\n",
    "        if self.debug:\n",
    "            print(\"Initializing GEMM driver...\")\n",
    "        \n",
    "        # Create the overlay and initialize the IP\n",
    "        self.overlay = Overlay(path)\n",
    "        \n",
    "        # Initialize the GEMM kernel IP\n",
    "        self.gemm = self.overlay.gemm_kernel_0\n",
    "        if self.debug:\n",
    "            print(\"Overlay loaded successfully\")\n",
    "        \n",
    "        # Define matrix dimensions\n",
    "        self.M = 128  # Adjust these based on your HLS parameters\n",
    "        self.K = 128\n",
    "        self.N = 128\n",
    "        if self.debug:\n",
    "            print(f\"Matrix dimensions set to: {self.M}x{self.K} * {self.K}x{self.N}\")\n",
    "\n",
    "    def write_matrix(self, a_buffer, b_buffer, c_buffer):\n",
    "        if self.debug:\n",
    "            print(\"\\nWriting matrix addresses to kernel...\")\n",
    "        \n",
    "        # Get physical addresses\n",
    "        a_phys_addr = a_buffer.physical_address\n",
    "        b_phys_addr = b_buffer.physical_address\n",
    "        c_phys_addr = c_buffer.physical_address\n",
    "\n",
    "        # Write the physical addresses to the kernel\n",
    "        self.gemm.write(0x10, a_phys_addr)  # Set address for matrix A\n",
    "        self.gemm.write(0x1c, b_phys_addr)  # Set address for matrix B\n",
    "        self.gemm.write(0x28, c_phys_addr)  # Set address for matrix C\n",
    "\n",
    "        if self.debug:\n",
    "            print(f\"Matrix A address: 0x{a_phys_addr:x}\")\n",
    "            print(f\"Matrix B address: 0x{b_phys_addr:x}\")\n",
    "            print(f\"Matrix C address: 0x{c_phys_addr:x}\")\n",
    "\n",
    "    def gemm_compute(self, A, B):\n",
    "        if self.debug:\n",
    "            print(\"\\nStarting GEMM computation...\")\n",
    "            print(\"Allocating memory buffers...\")\n",
    "        \n",
    "        # Allocate physically contiguous memory for matrices\n",
    "        a_buffer = allocate(shape=(self.M, self.K), dtype=np.float32)\n",
    "        b_buffer = allocate(shape=(self.K, self.N), dtype=np.float32)\n",
    "        c_buffer = allocate(shape=(self.M, self.N), dtype=np.float32)\n",
    "        \n",
    "        if self.debug:\n",
    "            print(\"Copying input matrices to buffers...\")\n",
    "        # Initialize input matrices\n",
    "        a_buffer[:] = A\n",
    "        b_buffer[:] = B\n",
    "        c_buffer[:] = np.zeros((self.M, self.N), dtype=np.float32)\n",
    "        \n",
    "        if self.debug:\n",
    "            print(\"Flushing data cache...\")\n",
    "        # Flush the data cache\n",
    "        a_buffer.flush()\n",
    "        b_buffer.flush()\n",
    "        c_buffer.flush()\n",
    "        \n",
    "        # Write matrices to the kernel\n",
    "        self.write_matrix(a_buffer, b_buffer, c_buffer)\n",
    "        \n",
    "        if self.debug:\n",
    "            print(\"Starting hardware computation...\")\n",
    "        start_time = time.time()\n",
    "        # Start the computation\n",
    "        self.gemm.write(0x00, 1)  # Set AP_START\n",
    "        \n",
    "        # Wait for completion\n",
    "        while (self.gemm.read(0x00) & 0x2) == 0:  # Check AP_DONE\n",
    "            pass\n",
    "            \n",
    "        end_time = time.time()\n",
    "        if self.debug:\n",
    "            print(f\"Hardware computation completed in {(end_time-start_time)*1000:.2f} ms\")\n",
    "        \n",
    "        if self.debug:\n",
    "            print(\"Invalidating output buffer...\")\n",
    "        # Invalidate the output buffer\n",
    "        c_buffer.invalidate()\n",
    "        \n",
    "        return c_buffer\n",
    "\n",
    "    def verify_result(self, hw_result, sw_result):\n",
    "        if self.debug:\n",
    "            print(\"\\nVerifying results...\")\n",
    "        # Verify results match within tolerance\n",
    "        rtol = 1e-5\n",
    "        atol = 1e-5\n",
    "        match = np.allclose(hw_result, sw_result, rtol=rtol, atol=atol)\n",
    "        \n",
    "        if match:\n",
    "            if self.debug:\n",
    "                print(\"✓ Results match within tolerance!\")\n",
    "                # Print some sample comparisons\n",
    "                print(\"\\nSample comparisons (first 3 elements):\")\n",
    "                print(\"HW:\", hw_result.flatten()[:3])\n",
    "                print(\"SW:\", sw_result.flatten()[:3])\n",
    "        else:\n",
    "            print(\"✗ Results don't match!\")\n",
    "            diff = np.abs(hw_result - sw_result)\n",
    "            max_diff = np.max(diff)\n",
    "            print(f\"Maximum difference: {max_diff}\")\n",
    "            print(\"\\nFirst differing elements:\")\n",
    "            print(\"HW:\", hw_result.flatten()[:5])\n",
    "            print(\"SW:\", sw_result.flatten()[:5])\n",
    "            \n",
    "        if self.debug:\n",
    "            # Print performance metrics\n",
    "            print(\"\\nPerformance Analysis:\")\n",
    "            total_ops = self.M * self.N * self.K * 2  # multiply-add operations\n",
    "            print(f\"Total Operations: {total_ops:,}\")\n"
   ]
  },
  {
   "cell_type": "code",
   "execution_count": 3,
   "id": "7e3494d8",
   "metadata": {},
   "outputs": [],
   "source": [
    "# Function for naive matrix multiplication\n",
    "def matrix_multiply(A, B):\n",
    "    rows_A, cols_A = A.shape\n",
    "    rows_B, cols_B = B.shape\n",
    "    assert cols_A == rows_B, \"Matrix dimensions do not match for multiplication\"\n",
    "    result = np.zeros((rows_A, cols_B), dtype=np.float32)\n",
    "    for i in range(rows_A):\n",
    "        for j in range(cols_B):\n",
    "            for k in range(cols_A):\n",
    "                result[i, j] += A[i, k] * B[k, j]\n",
    "    return result"
   ]
  },
  {
   "cell_type": "markdown",
   "id": "e4acbef2",
   "metadata": {},
   "source": [
    "## **Step 03 - Compare speed-up**"
   ]
  },
  {
   "cell_type": "code",
   "execution_count": 4,
   "id": "83ce69c0",
   "metadata": {
    "scrolled": false
   },
   "outputs": [
    {
     "name": "stdout",
     "output_type": "stream",
     "text": [
      "Creating GEMM driver instance...\n",
      "Initializing GEMM driver...\n"
     ]
    },
    {
     "data": {
      "application/javascript": "\ntry {\nrequire(['notebook/js/codecell'], function(codecell) {\n  codecell.CodeCell.options_default.highlight_modes[\n      'magic_text/x-csrc'] = {'reg':[/^%%microblaze/]};\n  Jupyter.notebook.events.one('kernel_ready.Kernel', function(){\n      Jupyter.notebook.get_cells().map(function(cell){\n          if (cell.cell_type == 'code'){ cell.auto_highlight(); } }) ;\n  });\n});\n} catch (e) {};\n"
     },
     "metadata": {},
     "output_type": "display_data"
    },
    {
     "data": {
      "application/javascript": "\ntry {\nrequire(['notebook/js/codecell'], function(codecell) {\n  codecell.CodeCell.options_default.highlight_modes[\n      'magic_text/x-csrc'] = {'reg':[/^%%pybind11/]};\n  Jupyter.notebook.events.one('kernel_ready.Kernel', function(){\n      Jupyter.notebook.get_cells().map(function(cell){\n          if (cell.cell_type == 'code'){ cell.auto_highlight(); } }) ;\n  });\n});\n} catch (e) {};\n"
     },
     "metadata": {},
     "output_type": "display_data"
    },
    {
     "name": "stdout",
     "output_type": "stream",
     "text": [
      "Overlay loaded successfully\n",
      "Matrix dimensions set to: 128x128 * 128x128\n",
      "\n",
      "Generating test matrices...\n",
      "\n",
      "Running hardware GEMM...\n",
      "\n",
      "Starting GEMM computation...\n",
      "Allocating memory buffers...\n",
      "Copying input matrices to buffers...\n",
      "Flushing data cache...\n",
      "\n",
      "Writing matrix addresses to kernel...\n",
      "Matrix A address: 0x16850000\n",
      "Matrix B address: 0x16860000\n",
      "Matrix C address: 0x16870000\n",
      "Starting hardware computation...\n",
      "Hardware computation completed in 3.43 ms\n",
      "Invalidating output buffer...\n",
      "\n",
      "Computing software reference...\n",
      "\n",
      "Verifying results...\n",
      "✓ Results match within tolerance!\n",
      "\n",
      "Sample comparisons (first 3 elements):\n",
      "HW: [35.34154  29.643805 33.810066]\n",
      "SW: [35.34154  29.643805 33.810066]\n",
      "\n",
      "Performance Analysis:\n",
      "Total Operations: 4,194,304\n",
      "\n",
      "Time taken by hardware GEMM: 0.014266 seconds\n",
      "Time taken by software reference: 20.150390 seconds\n",
      "\n",
      "Speedup of hardware over software: 1412.50x\n"
     ]
    }
   ],
   "source": [
    "# Initialize the driver\n",
    "print(\"Creating GEMM driver instance...\")\n",
    "gemm_driver = GEMM_DRIVER(\"gemm.bit\", debug = True)\n",
    "\n",
    "# Generate test matrices\n",
    "print(\"\\nGenerating test matrices...\")\n",
    "A = np.random.rand(128, 128).astype(np.float32)\n",
    "B = np.random.rand(128, 128).astype(np.float32)\n",
    "\n",
    "# Timing the hardware GEMM computation\n",
    "print(\"\\nRunning hardware GEMM...\")\n",
    "start_time_hw = time.time()\n",
    "hw_result = gemm_driver.gemm_compute(A, B)\n",
    "end_time_hw = time.time()\n",
    "\n",
    "# Timing the software reference computation\n",
    "print(\"\\nComputing software reference...\")\n",
    "start_time_sw = time.time()\n",
    "sw_result = matrix_multiply(A, B)\n",
    "end_time_sw = time.time()\n",
    "\n",
    "# Compute time taken\n",
    "hw_time = end_time_hw - start_time_hw\n",
    "sw_time = end_time_sw - start_time_sw\n",
    "\n",
    "# Verify results\n",
    "gemm_driver.verify_result(hw_result, sw_result)\n",
    "\n",
    "# Print results\n",
    "print(f\"\\nTime taken by hardware GEMM: {hw_time:.6f} seconds\")\n",
    "print(f\"Time taken by software reference: {sw_time:.6f} seconds\")\n",
    "\n",
    "# Calculate and print speedup\n",
    "speedup = sw_time / hw_time\n",
    "print(f\"\\nSpeedup of hardware over software: {speedup:.2f}x\")"
   ]
  }
 ],
 "metadata": {
  "kernelspec": {
   "display_name": "Python 3 (ipykernel)",
   "language": "python",
   "name": "python3"
  },
  "language_info": {
   "codemirror_mode": {
    "name": "ipython",
    "version": 3
   },
   "file_extension": ".py",
   "mimetype": "text/x-python",
   "name": "python",
   "nbconvert_exporter": "python",
   "pygments_lexer": "ipython3",
   "version": "3.10.4"
  }
 },
 "nbformat": 4,
 "nbformat_minor": 5
}
